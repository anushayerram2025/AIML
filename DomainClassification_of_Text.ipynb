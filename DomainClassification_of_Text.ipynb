{
  "nbformat": 4,
  "nbformat_minor": 0,
  "metadata": {
    "colab": {
      "provenance": [],
      "authorship_tag": "ABX9TyNYqv6rgHMcw12lJPlvnuGr",
      "include_colab_link": true
    },
    "kernelspec": {
      "name": "python3",
      "display_name": "Python 3"
    },
    "language_info": {
      "name": "python"
    }
  },
  "cells": [
    {
      "cell_type": "markdown",
      "metadata": {
        "id": "view-in-github",
        "colab_type": "text"
      },
      "source": [
        "<a href=\"https://colab.research.google.com/github/anushayerram2025/AIML/blob/main/DomainClassification_of_Text.ipynb\" target=\"_parent\"><img src=\"https://colab.research.google.com/assets/colab-badge.svg\" alt=\"Open In Colab\"/></a>"
      ]
    },
    {
      "cell_type": "code",
      "source": [
        "from google.colab import files\n",
        "import pandas as pd\n",
        "\n",
        "# Upload the Excel file\n",
        "uploaded = files.upload()\n",
        "\n",
        "# Get the uploaded file name\n",
        "file_name = list(uploaded.keys())[0]\n",
        "\n",
        "# Print the file name\n",
        "print(f\"Uploaded file: {file_name}\")\n"
      ],
      "metadata": {
        "colab": {
          "base_uri": "https://localhost:8080/",
          "height": 90
        },
        "id": "qigj1L7h96nW",
        "outputId": "11f72599-3d64-4f1c-d8e8-33d17bbb4ae9"
      },
      "execution_count": 1,
      "outputs": [
        {
          "output_type": "display_data",
          "data": {
            "text/plain": [
              "<IPython.core.display.HTML object>"
            ],
            "text/html": [
              "\n",
              "     <input type=\"file\" id=\"files-01f4f276-f3aa-4009-bd72-ffb83e6f6290\" name=\"files[]\" multiple disabled\n",
              "        style=\"border:none\" />\n",
              "     <output id=\"result-01f4f276-f3aa-4009-bd72-ffb83e6f6290\">\n",
              "      Upload widget is only available when the cell has been executed in the\n",
              "      current browser session. Please rerun this cell to enable.\n",
              "      </output>\n",
              "      <script>// Copyright 2017 Google LLC\n",
              "//\n",
              "// Licensed under the Apache License, Version 2.0 (the \"License\");\n",
              "// you may not use this file except in compliance with the License.\n",
              "// You may obtain a copy of the License at\n",
              "//\n",
              "//      http://www.apache.org/licenses/LICENSE-2.0\n",
              "//\n",
              "// Unless required by applicable law or agreed to in writing, software\n",
              "// distributed under the License is distributed on an \"AS IS\" BASIS,\n",
              "// WITHOUT WARRANTIES OR CONDITIONS OF ANY KIND, either express or implied.\n",
              "// See the License for the specific language governing permissions and\n",
              "// limitations under the License.\n",
              "\n",
              "/**\n",
              " * @fileoverview Helpers for google.colab Python module.\n",
              " */\n",
              "(function(scope) {\n",
              "function span(text, styleAttributes = {}) {\n",
              "  const element = document.createElement('span');\n",
              "  element.textContent = text;\n",
              "  for (const key of Object.keys(styleAttributes)) {\n",
              "    element.style[key] = styleAttributes[key];\n",
              "  }\n",
              "  return element;\n",
              "}\n",
              "\n",
              "// Max number of bytes which will be uploaded at a time.\n",
              "const MAX_PAYLOAD_SIZE = 100 * 1024;\n",
              "\n",
              "function _uploadFiles(inputId, outputId) {\n",
              "  const steps = uploadFilesStep(inputId, outputId);\n",
              "  const outputElement = document.getElementById(outputId);\n",
              "  // Cache steps on the outputElement to make it available for the next call\n",
              "  // to uploadFilesContinue from Python.\n",
              "  outputElement.steps = steps;\n",
              "\n",
              "  return _uploadFilesContinue(outputId);\n",
              "}\n",
              "\n",
              "// This is roughly an async generator (not supported in the browser yet),\n",
              "// where there are multiple asynchronous steps and the Python side is going\n",
              "// to poll for completion of each step.\n",
              "// This uses a Promise to block the python side on completion of each step,\n",
              "// then passes the result of the previous step as the input to the next step.\n",
              "function _uploadFilesContinue(outputId) {\n",
              "  const outputElement = document.getElementById(outputId);\n",
              "  const steps = outputElement.steps;\n",
              "\n",
              "  const next = steps.next(outputElement.lastPromiseValue);\n",
              "  return Promise.resolve(next.value.promise).then((value) => {\n",
              "    // Cache the last promise value to make it available to the next\n",
              "    // step of the generator.\n",
              "    outputElement.lastPromiseValue = value;\n",
              "    return next.value.response;\n",
              "  });\n",
              "}\n",
              "\n",
              "/**\n",
              " * Generator function which is called between each async step of the upload\n",
              " * process.\n",
              " * @param {string} inputId Element ID of the input file picker element.\n",
              " * @param {string} outputId Element ID of the output display.\n",
              " * @return {!Iterable<!Object>} Iterable of next steps.\n",
              " */\n",
              "function* uploadFilesStep(inputId, outputId) {\n",
              "  const inputElement = document.getElementById(inputId);\n",
              "  inputElement.disabled = false;\n",
              "\n",
              "  const outputElement = document.getElementById(outputId);\n",
              "  outputElement.innerHTML = '';\n",
              "\n",
              "  const pickedPromise = new Promise((resolve) => {\n",
              "    inputElement.addEventListener('change', (e) => {\n",
              "      resolve(e.target.files);\n",
              "    });\n",
              "  });\n",
              "\n",
              "  const cancel = document.createElement('button');\n",
              "  inputElement.parentElement.appendChild(cancel);\n",
              "  cancel.textContent = 'Cancel upload';\n",
              "  const cancelPromise = new Promise((resolve) => {\n",
              "    cancel.onclick = () => {\n",
              "      resolve(null);\n",
              "    };\n",
              "  });\n",
              "\n",
              "  // Wait for the user to pick the files.\n",
              "  const files = yield {\n",
              "    promise: Promise.race([pickedPromise, cancelPromise]),\n",
              "    response: {\n",
              "      action: 'starting',\n",
              "    }\n",
              "  };\n",
              "\n",
              "  cancel.remove();\n",
              "\n",
              "  // Disable the input element since further picks are not allowed.\n",
              "  inputElement.disabled = true;\n",
              "\n",
              "  if (!files) {\n",
              "    return {\n",
              "      response: {\n",
              "        action: 'complete',\n",
              "      }\n",
              "    };\n",
              "  }\n",
              "\n",
              "  for (const file of files) {\n",
              "    const li = document.createElement('li');\n",
              "    li.append(span(file.name, {fontWeight: 'bold'}));\n",
              "    li.append(span(\n",
              "        `(${file.type || 'n/a'}) - ${file.size} bytes, ` +\n",
              "        `last modified: ${\n",
              "            file.lastModifiedDate ? file.lastModifiedDate.toLocaleDateString() :\n",
              "                                    'n/a'} - `));\n",
              "    const percent = span('0% done');\n",
              "    li.appendChild(percent);\n",
              "\n",
              "    outputElement.appendChild(li);\n",
              "\n",
              "    const fileDataPromise = new Promise((resolve) => {\n",
              "      const reader = new FileReader();\n",
              "      reader.onload = (e) => {\n",
              "        resolve(e.target.result);\n",
              "      };\n",
              "      reader.readAsArrayBuffer(file);\n",
              "    });\n",
              "    // Wait for the data to be ready.\n",
              "    let fileData = yield {\n",
              "      promise: fileDataPromise,\n",
              "      response: {\n",
              "        action: 'continue',\n",
              "      }\n",
              "    };\n",
              "\n",
              "    // Use a chunked sending to avoid message size limits. See b/62115660.\n",
              "    let position = 0;\n",
              "    do {\n",
              "      const length = Math.min(fileData.byteLength - position, MAX_PAYLOAD_SIZE);\n",
              "      const chunk = new Uint8Array(fileData, position, length);\n",
              "      position += length;\n",
              "\n",
              "      const base64 = btoa(String.fromCharCode.apply(null, chunk));\n",
              "      yield {\n",
              "        response: {\n",
              "          action: 'append',\n",
              "          file: file.name,\n",
              "          data: base64,\n",
              "        },\n",
              "      };\n",
              "\n",
              "      let percentDone = fileData.byteLength === 0 ?\n",
              "          100 :\n",
              "          Math.round((position / fileData.byteLength) * 100);\n",
              "      percent.textContent = `${percentDone}% done`;\n",
              "\n",
              "    } while (position < fileData.byteLength);\n",
              "  }\n",
              "\n",
              "  // All done.\n",
              "  yield {\n",
              "    response: {\n",
              "      action: 'complete',\n",
              "    }\n",
              "  };\n",
              "}\n",
              "\n",
              "scope.google = scope.google || {};\n",
              "scope.google.colab = scope.google.colab || {};\n",
              "scope.google.colab._files = {\n",
              "  _uploadFiles,\n",
              "  _uploadFilesContinue,\n",
              "};\n",
              "})(self);\n",
              "</script> "
            ]
          },
          "metadata": {}
        },
        {
          "output_type": "stream",
          "name": "stdout",
          "text": [
            "Saving df_file.xlsx to df_file.xlsx\n",
            "Uploaded file: df_file.xlsx\n"
          ]
        }
      ]
    },
    {
      "cell_type": "code",
      "source": [
        "\n",
        "df = pd.read_excel(file_name,engine='openpyxl')\n",
        "\n",
        "column1_values = df.iloc[:, 0].tolist()\n",
        "column2_values = df.iloc[:, 1].tolist()\n",
        "\n",
        "print(\"Paragraphs\", len(column1_values))\n",
        "print(\"labelss\", len(column2_values))"
      ],
      "metadata": {
        "colab": {
          "base_uri": "https://localhost:8080/"
        },
        "id": "69LXDR26-yV8",
        "outputId": "4af28623-a8c5-4bd5-93d4-18e68cebfbcd"
      },
      "execution_count": 2,
      "outputs": [
        {
          "output_type": "stream",
          "name": "stdout",
          "text": [
            "Paragraphs 2225\n",
            "labelss 2225\n"
          ]
        }
      ]
    },
    {
      "cell_type": "code",
      "source": [
        "import nltk\n",
        "nltk.download('stopwords')\n"
      ],
      "metadata": {
        "colab": {
          "base_uri": "https://localhost:8080/"
        },
        "id": "pU5RLu8Gvw75",
        "outputId": "ffe0f686-0f90-42a3-c2e9-a3bb99220794"
      },
      "execution_count": 5,
      "outputs": [
        {
          "output_type": "stream",
          "name": "stderr",
          "text": [
            "[nltk_data] Downloading package stopwords to /root/nltk_data...\n",
            "[nltk_data]   Package stopwords is already up-to-date!\n"
          ]
        },
        {
          "output_type": "execute_result",
          "data": {
            "text/plain": [
              "True"
            ]
          },
          "metadata": {},
          "execution_count": 5
        }
      ]
    },
    {
      "cell_type": "code",
      "source": [
        "import nltk\n",
        "from nltk.corpus import stopwords\n",
        "from nltk.tokenize import word_tokenize\n",
        "from nltk.stem import WordNetLemmatizer\n",
        "\n",
        "\n",
        "nltk.download('wordnet')\n",
        "\n",
        "\n",
        "lemmatizer = WordNetLemmatizer()\n",
        "\n",
        "stop_words = set(stopwords.words('english'))\n",
        "print(stop_words)\n",
        "\n",
        "\n",
        "tokenised_paragraphs = []\n",
        "labels = []\n",
        "\n",
        "\n",
        "for paragraph, label in zip(column1_values, column2_values):\n",
        "\n",
        "    tokens = word_tokenize(paragraph.lower())\n",
        "\n",
        "\n",
        "    cleaned_tokens = []\n",
        "    for word in tokens:\n",
        "        if word not in stop_words and word not in {'.',','}:\n",
        "            cleaned_word = lemmatizer.lemmatize(word)\n",
        "            cleaned_tokens.append(cleaned_word)\n",
        "\n",
        "\n",
        "    tokenised_paragraphs.append(cleaned_tokens)\n",
        "    labels.append(label)\n",
        "\n",
        "\n",
        "print(tokenised_paragraphs[0])\n",
        "\n"
      ],
      "metadata": {
        "id": "838zZ-Cqg2A9",
        "colab": {
          "base_uri": "https://localhost:8080/"
        },
        "outputId": "4f73933f-0d60-4af6-bee8-370a42c04f17"
      },
      "execution_count": 6,
      "outputs": [
        {
          "output_type": "stream",
          "name": "stderr",
          "text": [
            "[nltk_data] Downloading package wordnet to /root/nltk_data...\n",
            "[nltk_data]   Package wordnet is already up-to-date!\n"
          ]
        },
        {
          "output_type": "stream",
          "name": "stdout",
          "text": [
            "{'ma', 'my', 'before', 'were', 'just', 'will', 'off', \"you're\", 'her', 'but', 'from', 'on', 'be', 'this', 'being', 'further', 'once', 'has', 'those', 'few', 'other', 'm', 'o', 'it', 'during', 'yours', 'd', 'after', 't', 'we', 'above', 'then', 'when', 'shan', \"you'd\", 'each', 'about', 'ours', \"isn't\", 'its', 'more', 'these', 'between', 'isn', 'yourself', 'in', 'had', 'an', 'doing', 'how', 'she', \"aren't\", \"shouldn't\", 'under', 'own', 'll', 'them', 'through', 'where', 'not', \"needn't\", 'than', 'won', 'that', 'very', \"shan't\", 'over', \"don't\", 'who', 'couldn', 'now', \"should've\", 'can', 'ourselves', 'all', \"couldn't\", 'why', 'mustn', 'having', 'so', 'up', \"you'll\", 'such', \"you've\", \"doesn't\", 'herself', 's', 'as', \"she's\", 'against', 'to', 'aren', 'haven', \"it's\", 'didn', 'should', 'wasn', 'doesn', 'ain', 'weren', 'hers', 'him', \"weren't\", 'do', 'some', 'is', 'at', 'only', 'both', 'are', 'below', 'yourselves', 'himself', 'our', \"didn't\", 'don', 'your', 'wouldn', \"wasn't\", 'again', 'whom', 'into', 'here', 'same', 'he', 'a', 'too', 'they', 'myself', 'for', 'their', 're', \"mightn't\", 'while', 'i', 'what', \"hasn't\", 'any', 'itself', 'shouldn', \"wouldn't\", \"that'll\", 'by', 'am', 'of', 'his', 'until', 'have', 'which', 'most', 'no', 'was', 'out', 'hadn', 'down', 'hasn', \"mustn't\", 'nor', 'with', 'and', 'theirs', 'the', 'mightn', 'does', 'there', 've', 'been', 'y', 'themselves', \"hadn't\", 'if', \"haven't\", 'needn', 'or', 'you', \"won't\", 'did', 'me', 'because'}\n",
            "['budget', 'set', 'scene', 'election', 'gordon', 'brown', 'seek', 'put', 'economy', 'centre', 'labour', \"'s\", 'bid', 'third', 'term', 'power', 'delivers', 'ninth', 'budget', '1230', 'gmt', 'expected', 'stress', 'importance', 'continued', 'economic', 'stability', 'low', 'unemployment', 'interest', 'rate', 'chancellor', 'expected', 'freeze', 'petrol', 'duty', 'raise', 'stamp', 'duty', 'threshold', 'â£60,000', 'conservative', 'lib', 'dems', 'insist', 'voter', 'face', 'higher', 'tax', 'means-testing', 'labour', 'treasury', 'official', 'said', 'pre-election', 'giveaway', 'mr', 'brown', 'thought', 'â£2bn', 'spare', '-', 'increase', 'stamp', 'duty', 'threshold', 'â£60,000', '-', 'freeze', 'petrol', 'duty', '-', 'extension', 'tax', 'credit', 'scheme', 'poorer', 'family', '-', 'possible', 'help', 'pensioner', 'stamp', 'duty', 'threshold', 'rise', 'intended', 'help', 'first', 'time', 'buyer', '-', 'likely', 'theme', 'three', 'main', 'party', \"'\", 'general', 'election', 'manifesto', 'ten', 'year', 'ago', 'buyer', 'much', 'greater', 'chance', 'avoiding', 'stamp', 'duty', 'close', 'half', 'million', 'property', 'england', 'wale', 'alone', 'selling', 'le', 'â£60,000', 'since', 'average', 'uk', 'property', 'price', 'doubled', 'starting', 'threshold', 'stamp', 'duty', 'increased', 'tax', 'credit', 'result', 'number', 'property', 'incurring', 'stamp', 'duty', 'rocketed', 'government', \"'s\", 'tax', 'take', 'liberal', 'democrat', 'unveiled', 'proposal', 'raise', 'stamp', 'duty', 'threshold', 'â£150,000', 'february', 'tory', 'also', 'thought', 'likely', 'propose', 'increased', 'threshold', 'shadow', 'chancellor', 'oliver', 'letwin', 'branding', 'stamp', 'duty', '``', 'classic', 'labour', 'stealth', 'tax', \"''\", 'tory', 'say', 'whatever', 'chancellor', 'give', 'away', 'clawed', 'back', 'higher', 'tax', 'labour', 'returned', 'power', 'shadow', 'treasury', 'chief', 'secretary', 'george', 'osborne', 'said', ':', '``', 'everyone', 'look', 'british', 'economy', 'moment', 'say', 'sharp', 'deterioration', 'public', 'finance', 'black', 'hole', \"''\", 'said', '``', 'labour', 'elected', 'substantial', 'tax', 'increase', 'budget', 'election', 'order', 'around', 'â£10bn', \"''\", 'mr', 'brown', \"'s\", 'former', 'advisor', 'ed', 'ball', 'parliamentary', 'hopeful', 'said', 'examination', 'tory', 'plan', 'economy', 'showed', 'would', 'â£35bn', 'difference', 'investment', 'end', 'next', 'parliament', 'two', 'main', 'party', 'added', ':', '``', \"n't\", 'accept', 'need', 'change', 'plan', 'set', 'meet', 'spending', 'commitment', \"''\", 'lib', 'dems', 'david', 'law', 'said', ':', '``', 'chancellor', 'doubt', 'tell', 'u', 'today', 'wonderfully', 'economy', \"''\", 'said', '``', 'lot', 'built', 'increase', 'personal', 'consumer', 'debt', 'last', 'year', '-', 'make', 'economy', 'quite', 'vulnerable', 'potentially', 'interest', 'rate', 'ever', 'go', 'significant', 'way', \"''\", 'snp', 'leader', 'alex', 'salmond', 'said', 'party', 'would', 'introduce', 'â£2,000', 'grant', 'first', 'time', 'buyer', 'reduce', 'corporation', 'tax', 'introduce', 'citizen', 'pension', 'free', 'mean', 'testing', 'plaid', 'cymru', \"'s\", 'economics', 'spokesman', 'adam', 'price', 'said', 'wanted', 'help', 'get', 'people', 'housing', 'ladder', 'increase', 'minimum', 'wage', 'â£5.60', 'hour']\n"
          ]
        }
      ]
    },
    {
      "cell_type": "code",
      "source": [
        "from gensim.models import Word2Vec\n",
        "from sklearn.model_selection import train_test_split\n",
        "from sklearn.neighbors import KNeighborsClassifier\n",
        "from sklearn.metrics import accuracy_score\n",
        "import numpy as np\n",
        "\n",
        "\n",
        "\n",
        "\n",
        "model = Word2Vec(min_count=1, window=1)\n",
        "model.build_vocab(tokenised_paragraphs)\n",
        "model.train(tokenised_paragraphs, total_examples=len(tokenised_paragraphs), epochs=10)\n",
        "\n",
        "X = []\n",
        "for paragraph in tokenised_paragraphs:\n",
        "    vectors = []\n",
        "    for word in paragraph:\n",
        "        if word in model.wv.key_to_index:\n",
        "            vectors.append(model.wv[word])\n",
        "    if vectors:\n",
        "        paragraph_vector = np.mean(vectors, axis=0)\n",
        "        X.append(paragraph_vector)\n",
        "\n",
        "\n",
        "y = np.array(labels)\n",
        "\n",
        "X_train, X_test, y_train, y_test = train_test_split(X, y, test_size=0.2, random_state=101)\n",
        "knn_classifier = KNeighborsClassifier(n_neighbors=3)\n",
        "knn_classifier.fit(X_train, y_train)\n",
        "knn_predictions = knn_classifier.predict(X_test)\n",
        "knn_accuracy = accuracy_score(y_test, knn_predictions)\n",
        "print(\"KNN Accuracy:\", knn_accuracy * 100)\n",
        "\n"
      ],
      "metadata": {
        "colab": {
          "base_uri": "https://localhost:8080/"
        },
        "id": "uukhxe4Z_7L3",
        "outputId": "0164054a-549c-47d8-820c-f1141be3adcd"
      },
      "execution_count": 7,
      "outputs": [
        {
          "output_type": "stream",
          "name": "stdout",
          "text": [
            "KNN Accuracy: 87.64044943820225\n"
          ]
        }
      ]
    }
  ]
}